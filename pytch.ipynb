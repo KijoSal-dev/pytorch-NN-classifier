{
  "nbformat": 4,
  "nbformat_minor": 0,
  "metadata": {
    "colab": {
      "provenance": [],
      "authorship_tag": "ABX9TyNhxTQOSpwtZ9rsjl9+OLli",
      "include_colab_link": true
    },
    "kernelspec": {
      "name": "python3",
      "display_name": "Python 3"
    },
    "language_info": {
      "name": "python"
    }
  },
  "cells": [
    {
      "cell_type": "markdown",
      "metadata": {
        "id": "view-in-github",
        "colab_type": "text"
      },
      "source": [
        "<a href=\"https://colab.research.google.com/github/KijoSal-dev/pytorch-NN-classifier/blob/main/pytch.ipynb\" target=\"_parent\"><img src=\"https://colab.research.google.com/assets/colab-badge.svg\" alt=\"Open In Colab\"/></a>"
      ]
    },
    {
      "cell_type": "code",
      "execution_count": 1,
      "metadata": {
        "colab": {
          "base_uri": "https://localhost:8080/"
        },
        "id": "Cfiu6R1-6mdi",
        "outputId": "737a6130-517b-4249-a958-dbaf68b2ebfc"
      },
      "outputs": [
        {
          "output_type": "stream",
          "name": "stderr",
          "text": [
            "100%|██████████| 9.91M/9.91M [00:00<00:00, 39.4MB/s]\n",
            "100%|██████████| 28.9k/28.9k [00:00<00:00, 1.16MB/s]\n",
            "100%|██████████| 1.65M/1.65M [00:00<00:00, 9.80MB/s]\n",
            "100%|██████████| 4.54k/4.54k [00:00<00:00, 6.85MB/s]\n"
          ]
        }
      ],
      "source": [
        "# Import necessary PyTorch libraries and modules.\n",
        "import torch                              # Main PyTorch package.\n",
        "import torch.nn as nn                     # Provides neural network building blocks.\n",
        "import torch.optim as optim               # Provides optimization algorithms.\n",
        "import torch.nn.functional as F           # Contains useful functions like activation functions.\n",
        "from torchvision import datasets, transforms  # For loading and transforming datasets.\n",
        "from torch.utils.data import DataLoader   # Helps in batching and shuffling the data.\n",
        "\n",
        "# Define the data transformation.\n",
        "# - transforms.ToTensor(): Converts a PIL Image or numpy array (pixel values 0-255) into a FloatTensor (values between 0.0 and 1.0).\n",
        "# - transforms.Normalize((0.1307,), (0.3081,)): Normalizes the tensor with given mean and standard deviation, computed on MNIST.\n",
        "transform = transforms.Compose([\n",
        "    transforms.ToTensor(),\n",
        "    transforms.Normalize((0.1307,), (0.3081,))\n",
        "])\n",
        "\n",
        "# Download and load the training and test datasets.\n",
        "# - root='./data': Directory where the datasets will be stored.\n",
        "# - train=True/False: Specifies if we're downloading the training or test set.\n",
        "# - download=True: Downloads the dataset if it's not already present locally.\n",
        "# - transform: Applies the transformation defined above to the data.\n",
        "train_dataset = datasets.MNIST(root='./data', train=True, download=True, transform=transform)\n",
        "test_dataset = datasets.MNIST(root='./data', train=False, download=True, transform=transform)\n",
        "\n",
        "# Wrap the datasets in DataLoader objects to enable batch processing and shuffling.\n",
        "# - batch_size: Number of samples per batch.\n",
        "# - shuffle=True for training data to randomize data order each epoch.\n",
        "train_loader = DataLoader(train_dataset, batch_size=64, shuffle=True)\n",
        "test_loader = DataLoader(test_dataset, batch_size=1000, shuffle=False)\n",
        "\n",
        "# Define a simple neural network model by subclassing nn.Module.\n",
        "class SimpleNN(nn.Module):\n",
        "    def __init__(self):\n",
        "        super(SimpleNN, self).__init__()\n",
        "        # Define the first fully connected (dense) layer:\n",
        "        # Input features are 28*28 pixels (flattened image) and output is 128 features.\n",
        "        self.fc1 = nn.Linear(28 * 28, 128)\n",
        "        # Define the second fully connected layer:\n",
        "        # Input features from the previous layer and output should be 10 classes (digits 0-9).\n",
        "        self.fc2 = nn.Linear(128, 10)\n",
        "\n",
        "    def forward(self, x):\n",
        "        # Flatten the input x from shape [batch_size, 1, 28, 28] to [batch_size, 28*28]\n",
        "        x = x.view(-1, 28 * 28)\n",
        "        # Apply the first layer then a ReLU activation function to introduce non-linearity.\n",
        "        x = F.relu(self.fc1(x))\n",
        "        # Pass the output through the second layer which outputs the logits for 10 classes.\n",
        "        x = self.fc2(x)\n",
        "        return x\n",
        "\n",
        "# Instantiate the model.\n",
        "model = SimpleNN()\n",
        "\n",
        "# Define the optimizer and the loss function.\n",
        "# - Adam is a popular optimizer that adapts the learning rate.\n",
        "# - CrossEntropyLoss combines softmax and negative log likelihood loss, appropriate for multi-class classification.\n",
        "optimizer = optim.Adam(model.parameters(), lr=0.001)\n",
        "criterion = nn.CrossEntropyLoss()\n",
        ""
      ]
    },
    {
      "cell_type": "markdown",
      "metadata": {
        "id": "c63e80c6"
      },
      "source": [
        "# PyTorch MNIST Classifier\n",
        "\n",
        "This project trains a simple neural network to classify handwritten digits from the MNIST dataset using PyTorch.\n",
        "\n",
        "## Getting Started\n",
        "\n",
        "These instructions will get you a copy of the project up and running on your local machine for development and testing purposes.\n",
        "\n",
        "### Prerequisites\n",
        "\n",
        "You will need Python and pip installed. To install the necessary libraries, run:"
      ]
    },
    {
      "cell_type": "code",
      "metadata": {
        "id": "ae42426f"
      },
      "source": [
        "python train.py"
      ],
      "execution_count": null,
      "outputs": []
    }
  ]
}